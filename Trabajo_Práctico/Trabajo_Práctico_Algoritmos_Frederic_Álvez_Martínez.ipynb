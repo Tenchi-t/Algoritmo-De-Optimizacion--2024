{
  "cells": [
    {
      "cell_type": "markdown",
      "metadata": {
        "id": "view-in-github",
        "colab_type": "text"
      },
      "source": [
        "<a href=\"https://colab.research.google.com/github/Tenchi-t/Algoritmo-De-Optimizacion--2024/blob/main/Trabajo_Pr%C3%A1ctico_Algoritmos_Frederic_%C3%81lvez_Mart%C3%ADnez.ipynb\" target=\"_parent\"><img src=\"https://colab.research.google.com/assets/colab-badge.svg\" alt=\"Open In Colab\"/></a>"
      ]
    },
    {
      "cell_type": "markdown",
      "metadata": {
        "id": "hVbXYX-RfPWh"
      },
      "source": [
        "# Algoritmos de optimización - Trabajo Práctico<br>\n",
        "Nombre y Apellidos: Frederic Álvez Martínez  <br>\n",
        "Url: https://github.com/Tenchi-t/Algoritmo-De-Optimizacion--2024<br>\n",
        "Google Colab: https://colab.research.google.com/drive/19yZZHdc_0X88MG0tA5cp7q40sSGY8lfh <br>\n",
        "Problema:\n",
        ">1. Sesiones de doblaje <br>\n",
        ">2. Organizar los horarios de partidos de una jornada de La Liga<br>\n",
        ">3. Configuración de Tribunales\n",
        "\n",
        "Descripción del problema:(copiar enunciado)"
      ]
    },
    {
      "cell_type": "markdown",
      "metadata": {
        "id": "i4P9ww_LF3Ul"
      },
      "source": [
        "## Problema 3. Generación de Tribunales(I)\n",
        ">1. Se precisa configurar tribunales de evaluación para un grupo de 15 alumnos que desean\n",
        "presentar su Trabajo Fin de Máster (TFM).\n",
        ">2. Cada tribunal está compuesto por tres profesores, cada uno desempeñando uno de los\n",
        "siguientes roles: Presidente, Secretario o Vocal.\n",
        ">3. Los profesores han indicado su disponibilidad horaria para participar en los tribunales de 15h a\n",
        "21h durante la semana del 15 al 19 de abril:\n",
        "\n",
        "Número de profesores : 10\n",
        "\n",
        "Número de tribunales : 15\n",
        "\n",
        "Disponibilidad/Roles : https://bit.ly/41QWk8o\n",
        "- 1 indica que profesor tiene disponibilidad\n",
        "- 0 en caso contrario\n",
        "\n",
        "* Hay 15 alumnos, por lo que se deben configurar 15 tribunales buscando la configuración más\n",
        "equilibrada posible en cuanto a la cantidad de tribunales asignados a cada profesor, es decir,\n",
        "evitando que un profesor tenga muchos tribunales y otros pocos.\n",
        "* Obviamente ningún profesor puede asistir a dos tribunales a la misma fecha/hora y no puede ser\n",
        "convocado a un tribunal al que no tiene disponibilidad."
      ]
    },
    {
      "cell_type": "markdown",
      "metadata": {
        "id": "Sbo9IqQtpaHZ"
      },
      "source": [
        "### Modelo\n",
        "- ¿Como represento el espacio de soluciones?\n",
        "- ¿Cual es la función objetivo?\n",
        "- ¿Como implemento las restricciones?"
      ]
    },
    {
      "cell_type": "markdown",
      "metadata": {
        "id": "KX1lEYrSF3Un"
      },
      "source": [
        "## Respuestas y código:"
      ]
    },
    {
      "cell_type": "markdown",
      "metadata": {
        "id": "eINlm8PRF3Uo"
      },
      "source": [
        "Librerias"
      ]
    },
    {
      "cell_type": "code",
      "execution_count": null,
      "metadata": {
        "id": "xlz8nZNFF3Up"
      },
      "outputs": [],
      "source": [
        "#Librerias\n",
        "import pandas as pd\n",
        "import numpy as np\n",
        "import math\n",
        "import random"
      ]
    },
    {
      "cell_type": "markdown",
      "metadata": {
        "id": "b2I3pKzvF3Uq"
      },
      "source": [
        "Lectura y estructuración de los datos"
      ]
    },
    {
      "cell_type": "code",
      "execution_count": null,
      "metadata": {
        "id": "abZRSbU1F3Ur",
        "outputId": "324a2d60-1626-4e5f-b5f7-0ea0a1c37f2e"
      },
      "outputs": [
        {
          "name": "stdout",
          "output_type": "stream",
          "text": [
            "                   #           Dia 15                   16  ... 18       19  \\\n",
            "  Unnamed: 0_level_1 Profesor/Hora 15 16 17 18 19 20 21 15  ... 19 20 21 15   \n",
            "0                  1           RRD  0  1  1  1  0  1  1  1  ...  1  1  1  1   \n",
            "1                  2           QYV  1  1  1  1  0  0  0  0  ...  1  1  1  1   \n",
            "2                  3           LHL  0  0  1  1  0  1  1  1  ...  1  0  1  0   \n",
            "3                  4           HLC  1  0  1  0  1  1  0  1  ...  0  1  1  1   \n",
            "4                  5           MSB  1  1  0  1  0  1  1  1  ...  0  1  1  1   \n",
            "5                  6           PMQ  1  1  1  1  1  0  0  1  ...  0  1  1  1   \n",
            "6                  7           QWF  0  1  1  1  1  1  1  1  ...  0  1  1  1   \n",
            "7                  8           EBB  1  1  1  1  1  0  0  1  ...  1  1  1  0   \n",
            "8                  9           IOE  1  0  1  1  0  1  0  0  ...  1  1  0  1   \n",
            "9                 10           IOA  1  1  0  1  1  0  1  1  ...  1  1  1  1   \n",
            "\n",
            "                     \n",
            "  16 17 18 19 20 21  \n",
            "0  1  1  1  1  0  0  \n",
            "1  1  1  1  1  1  1  \n",
            "2  1  1  0  1  0  1  \n",
            "3  1  1  1  1  1  0  \n",
            "4  0  1  1  1  1  0  \n",
            "5  1  1  0  1  0  1  \n",
            "6  1  1  1  1  0  1  \n",
            "7  1  1  1  0  1  0  \n",
            "8  0  1  1  1  1  1  \n",
            "9  1  1  0  0  0  1  \n",
            "\n",
            "[10 rows x 37 columns]\n",
            "  Profesor    ROL\n",
            "0      RRD  P,S,V\n",
            "1      QYV  P,S,V\n",
            "2      LHL    P,V\n",
            "3      HLC    S,V\n",
            "4      MSB  P,S,V\n",
            "5      PMQ  P,S,V\n",
            "6      QWF    S,V\n",
            "7      EBB    S,V\n",
            "8      IOE  P,S,V\n",
            "9      IOA  P,S,V\n",
            "   Presidente  Secretario  Vocal\n",
            "0           1           1      1\n",
            "1           1           1      1\n",
            "2           1           0      1\n",
            "3           0           1      1\n",
            "4           1           1      1\n",
            "5           1           1      1\n",
            "6           0           1      1\n",
            "7           0           1      1\n",
            "8           1           1      1\n",
            "9           1           1      1\n"
          ]
        }
      ],
      "source": [
        "# Ruta del archivo Excel\n",
        "archivo = 'Datos problema de Tribunales(Algoritmos de Optimización).xlsx'\n",
        "\n",
        "# Leer la hoja 'disponibilidad' con dos filas de cabecera\n",
        "disponibilidad = pd.read_excel(archivo, sheet_name='disponibilidad', header=[0, 1])\n",
        "\n",
        "# Leer la hoja 'roles' con una fila de cabecera\n",
        "roles = pd.read_excel(archivo, sheet_name='roles', header=0)\n",
        "# Mostrar las primeras las filas de cada hoja\n",
        "print(disponibilidad)\n",
        "print(roles)\n",
        "#Cambiamos la forma de los estructura de los datos de roles para trabajar mejor\n",
        "# Crear una matriz de roles (10 profesores x 3 roles)\n",
        "num_profesores=roles.shape[0]\n",
        "roles_matriz = np.zeros((num_profesores, 3), dtype=int)\n",
        "roles_df = pd.DataFrame(roles_matriz, columns=['Presidente', 'Secretario', 'Vocal'])\n",
        "\n",
        "# Procesar la información de roles\n",
        "for i in range(num_profesores):\n",
        "    partes = roles.iloc[i, -1].strip().split(',')\n",
        "    # Asignar 1 para cada rol que el profesor puede desempeñar\n",
        "    if 'P' in partes:\n",
        "        roles_df.loc[i , 'Presidente'] = 1\n",
        "    if 'S' in partes:\n",
        "        roles_df.loc[i , 'Secretario'] = 1\n",
        "    if 'V' in partes:\n",
        "        roles_df.loc[i , 'Vocal'] = 1\n",
        "\n",
        "# Ahora roles_df tiene la estructura correcta para usarse en las restricciones\n",
        "print(roles_df)"
      ]
    },
    {
      "cell_type": "markdown",
      "metadata": {
        "id": "67p_vszBposu"
      },
      "source": [
        "## ¿Como represento el espacio de soluciones?\n",
        "El espacio de soluciones se puede representarse de forma **compacta** como:\n",
        "\n",
        "Representando las soluciones como una array $ x_{r,t}=p $, donde las filas representa los roles con la última fila la fecha\\hora (r) y las columnas los n-tribunal (t) por último las celdas son los profesores asignados quitando la última fila que es la fecha\\hora (p)"
      ]
    },
    {
      "cell_type": "markdown",
      "metadata": {
        "id": "J_ZpPgYPF3Uv"
      },
      "source": [
        "Ejemplo:\n",
        "{0: {'fecha': 31, 'P': 1, 'S': 7, 'V': 2, 2: 3, 0: 9, 1: 5}, 1: {'fecha': 11, 'P': 1, 'S': 5, 'V': 8}, 2: {'fecha': 3, 'P': 9, 'S': 4, 'V': 7, 0: 5, 2: 0}, 3: {'fecha': 33, 'P': 0, 'S': 6, 'V': 8, 2: 1, 1: 3, 0: 4},\n",
        "\n",
        "4: {'fecha': 23, 'P': 8, 'S': 6, 'V': 2, 2: 9, 1: 3, 0: 1}, 5: {'fecha': 6, 'P': 9, 'S': 7, 'V': 3, 1: 5}, 6: {'fecha': 22, 'P': 5, 'S': 7, 'V': 4, 1: 6, 2: 2, 0: 8}, 7: {'fecha': 28, 'P': 9, 'S': 5, 'V': 3, 0: 0, 1: 6, 2: 7},\n",
        "\n",
        "8: {'fecha': 16, 'P': 4, 'S': 1, 'V': 5, 1: 8, 2: 9}, 9: {'fecha': 32, 'P': 9, 'S': 7, 'V': 6, 0: 8, 2: 0, 1: 3}, 10: {'fecha': 25, 'P': 4, 'S': 3, 'V': 2, 1: 5, 0: 8, 2: 1}, 11: {'fecha': 5, 'P': 9, 'S': 6, 'V': 2, 0: 0, 1: 1, 2: 7},\n",
        "\n",
        "12: {'fecha': 16, 'P': 2, 'S': 7, 'V': 0, 2: 8, 0: 9}, 13: {'fecha': 3, 'P': 5, 'S': 6, 'V': 1, 0: 0}, 14: {'fecha': 11, 'P': 4, 'S': 0, 'V': 2}}\n"
      ]
    },
    {
      "cell_type": "markdown",
      "metadata": {
        "id": "iWMPtad5F3Uw"
      },
      "source": [
        "## ¿Cual es la función objetivo?\n",
        "\n",
        "Como el objetivo es equilibrar la carga de trabajo de los profesores, minimizando la diferencia entre el máximo y el mínimo de tribunales asignados a cada profesor.\n",
        "\n",
        "Definimos lo siguiente:\n",
        "\n",
        "- $y_p = \\sum_{t=1}^{15} \\sum_{r \\in \\{P, S, V\\}} x_{r,t}==p $: Número total de tribunales asignados al profesor $p$.\n",
        "\n",
        "La función objetivo a minimizar será:\n",
        "\n",
        "$$\n",
        "loss(x)=\\min \\left( \\max(y_p) - \\min(y_p) \\right) \\quad \\forall p \\in \\{1, \\ldots, 10\\}\n",
        "$$\n"
      ]
    },
    {
      "cell_type": "code",
      "execution_count": null,
      "metadata": {
        "id": "PknWmBH_F3Ux"
      },
      "outputs": [],
      "source": [
        "# Esta es nuestra función de costo, calculamos la diferencia entre el máximo y el mínimo número de tribunales asignados\n",
        "def calcular_energia(asignacion, num_profesores=10):\n",
        "    carga_profesor = np.zeros(num_profesores)\n",
        "    # Contar los tribunales asignados a cada profesor sin considerar la fecha\n",
        "    for tribunal in asignacion.values():\n",
        "        for rol, profesor in tribunal.items():\n",
        "            if rol != 'fecha':  # Evitar la clave 'fecha'\n",
        "                carga_profesor[profesor] += 1\n",
        "\n",
        "    # Mínimo y máximo número de tribunales asignados\n",
        "    max_carga = carga_profesor.max()\n",
        "    min_carga = carga_profesor.min()\n",
        "    # Penalización por desequilibrio, la diferencia entre el máximo y el mínimo\n",
        "    energia = max_carga - min_carga\n",
        "    return energia"
      ]
    },
    {
      "cell_type": "markdown",
      "metadata": {
        "id": "9UxwUuhTF3Uy"
      },
      "source": [
        "## ¿Como implemento las restricciones?\n",
        "\n",
        "Veamos cada caso:\n",
        "\n",
        "### a) Restricción de disponibilidad horaria:\n",
        "\n",
        "Usamos la matriz de disponibilidad fecha $ D_{p,f}$ (extraída del archivo proporcionado), donde:\n",
        "\n",
        "$$\n",
        "D_{p,f} = \\begin{cases}\n",
        "1 & \\text{si el profesor } p \\text{ está disponible para fecha } f \\\\\n",
        "0 & \\text{en caso contrario}\n",
        "\\end{cases}\n",
        "$$\n",
        "\n",
        "\n",
        "### b) Asignación completa de roles en cada tribunal y exclusividad de los roles por profesor y tribunal:\n",
        "\n",
        "Cada tribunal debe tener exactamente un Presidente, un Secretario y un Vocal, esto queda perfectamente determinado con la estructura que hemos selecionado para representar las soluciones, da tal forma que solo puede cada rol tener un profesor y no puede ser vacio.\n",
        "\n",
        "$$\n",
        "x_{V,t} \\neq x_{S,t} \\neq x_{P,t} \\neq \\empty \\quad \\forall t\n",
        "$$\n",
        "\n",
        "### c) No solapamiento de tribunales:\n",
        "\n",
        "Asumiendo que los tribunales pueden coincidir en horarios, un profesor no puede estar en dos tribunales al mismo tiempo:\n",
        "\n",
        "$$\n",
        "x_{Fecha,t} \\neq x_{Fecha,s}  \\quad \\forall t, s, s \\neq t, \\text{siendo s y t tribunales.}\n",
        "$$\n",
        "\n",
        "### d) Disponibilidad de rol:\n",
        "\n",
        "Usamos la matriz de disponibilidad de rol $ R_{p,r}$ (extraída del archivo proporcionado), donde:\n",
        "\n",
        "$$\n",
        "R_{p,r} = \\begin{cases}\n",
        "1 & \\text{si el profesor } p \\text{ está disponible para rol } r \\\\\n",
        "0 & \\text{en caso contrario}\n",
        "\\end{cases}\n",
        "$$\n"
      ]
    },
    {
      "cell_type": "code",
      "execution_count": null,
      "metadata": {
        "id": "YuJ14mAzF3Uy"
      },
      "outputs": [],
      "source": [
        "#Disponibilidad de un profesor sino se repite fecha y hora dentro de los tribunales ya asignados\n",
        "def profesores_asignados_en_fecha(asignacion, fecha):\n",
        "    return [\n",
        "        profesor\n",
        "        for asignacion in asignacion.values()\n",
        "        if asignacion['fecha'] == fecha\n",
        "        for profesor in [asignacion.get('P', -1), asignacion.get('S', -1), asignacion.get('V', -1)]    ]\n",
        "# Disponibilidad de un profsor con toda las restriciones\n",
        "def profesores_disponibilidad(asignacion,tribunal,rol_idx,num_profesores, profesores_asignados_por_fecha,fecha):\n",
        "    return  [\n",
        "                    i for i in range(num_profesores)\n",
        "                    if disponibilidad.iloc[i, fecha] == 1  # Disponibilidad horaria\n",
        "                    and roles_df.iloc[i, rol_idx] == 1  # Puede desempeñar el rol\n",
        "                    and i not in profesores_asignados_por_fecha # No asignado en la misma fecha\n",
        "                    and i not in asignacion[tribunal].values()  # No asignado en este tribunal\n",
        "                ]"
      ]
    },
    {
      "cell_type": "code",
      "execution_count": null,
      "metadata": {
        "id": "EoUnjFC8F3Uz"
      },
      "outputs": [],
      "source": [
        "# Función de asignación inicial\n",
        "def crear_asignacion_inicial(disponibilidad,roles_df,num_tribunales=15):\n",
        "    asignacion_inicial = {}\n",
        "    fechas_disponibles = set(range(disponibilidad.shape[1]))  # Conjunto de todas las fechas disponibles\n",
        "\n",
        "    for j in range(num_tribunales):\n",
        "        todo_asignado = False  # Inicializar la condición\n",
        "        while not todo_asignado:  # Continuar mientras no se haya asignado correctamente todo\n",
        "            # Seleccionar una fecha aleatoria de las disponibles\n",
        "            if not fechas_disponibles:\n",
        "                break  # Si no hay fechas disponibles, salimos del bucle\n",
        "\n",
        "            fecha = random.choice(list(fechas_disponibles))\n",
        "\n",
        "            # Inicializar la asignación para este tribunal con la fecha seleccionada\n",
        "            asignacion_inicial[j] = {'fecha': fecha}\n",
        "            profesores_asignados_por_fecha=profesores_asignados_en_fecha(asignacion_inicial, fecha)\n",
        "            todo_asignado = True  # Asumimos que todo se puede asignar correctamente\n",
        "\n",
        "            # Asignar cada rol (P, S, V)\n",
        "            for idx, rol in enumerate(['P', 'S', 'V']):\n",
        "                # Filtrar profesores que:\n",
        "                profesores_disponibles = [\n",
        "                    i for i in range(num_profesores)\n",
        "                    if disponibilidad.iloc[i, fecha] == 1  # Disponibilidad horaria\n",
        "                    and roles_df.iloc[i, idx] == 1  # Puede desempeñar el rol\n",
        "                    and i not in profesores_asignados_por_fecha # No asignado en la misma fecha\n",
        "                    and i not in asignacion_inicial[j].values()  # No asignado en este tribunal\n",
        "                ]\n",
        "\n",
        "                # Si hay profesores disponibles, asignar uno aleatoriamente\n",
        "                if profesores_disponibles:\n",
        "                    profesor_asignado = random.choice(profesores_disponibles)\n",
        "                    asignacion_inicial[j][rol] = profesor_asignado\n",
        "                else:\n",
        "                    # Si no hay profesores disponibles\n",
        "                    todo_asignado = False  # Marcamos que no se ha asignado correctamente todo\n",
        "\n",
        "            # Si no hemos podido asignar correctamente, eliminamos la fecha del conjunto\n",
        "            if not todo_asignado:\n",
        "                fechas_disponibles.remove(fecha)  # Eliminar la fecha saturada del conjunto\n",
        "\n",
        "    return asignacion_inicial"
      ]
    },
    {
      "cell_type": "code",
      "execution_count": null,
      "metadata": {
        "id": "5PvqdWPeF3U0"
      },
      "outputs": [],
      "source": [
        "# Cambiar profesor más ocupado por uno menos ocupado en la misma fecha\n",
        "def generar_vecino_metodo_1(asignacion, disponibilidad,roles_df):\n",
        "    # Número de profesores (se puede obtener directamente del DataFrame)\n",
        "    num_profesores = disponibilidad.shape[0]\n",
        "    # Calcular la frecuencia de ocupación de cada profesor\n",
        "    frecuencia_ocupacion = {profesor: 0 for profesor in range(num_profesores)}\n",
        "    for _, roles in asignacion.items():\n",
        "        for rol, profesor in roles.items():\n",
        "            if rol != 'fecha':  # Evitar la clave 'fecha'\n",
        "                frecuencia_ocupacion[profesor] += 1\n",
        "\n",
        "    # Ordenar los profesores por frecuencia de ocupación (de mayor a menor)\n",
        "    profesores_ordenados = sorted(frecuencia_ocupacion.items(), key=lambda x: x[1], reverse=True)\n",
        "    # Seleccionar el profesor más ocupado\n",
        "    profesor_mas_ocupado = profesores_ordenados[0][0]\n",
        "    # Buscar tribunales donde el profesor más ocupado esté asignado en los roles 'P', 'S' o 'V'\n",
        "    tribunales_con_profesor = [\n",
        "        tribunal for tribunal, roles in asignacion.items()\n",
        "        if profesor_mas_ocupado in [roles['P'], roles['S'], roles['V']]  # Verificar solo los roles 'P', 'S', 'V'\n",
        "    ]\n",
        "    # Seleccionar un tribunal aleatorio donde esté el profesor más ocupado\n",
        "    tribunal_seleccionado = random.choice(tribunales_con_profesor)\n",
        "    # Buscar el índice del rol que tiene asignado el profesor más ocupado en el tribunal\n",
        "    rol_idx = None\n",
        "    for idx, rol in enumerate(['P', 'S', 'V']):\n",
        "        if asignacion[tribunal_seleccionado][rol] == profesor_mas_ocupado:\n",
        "            rol_idx = idx\n",
        "            break\n",
        "\n",
        "    # Obtener la fecha del tribunal seleccionado\n",
        "    fecha = asignacion[tribunal_seleccionado]['fecha']\n",
        "    # Encontrar los profesores ocupados en otros tribunales en la misma fecha\n",
        "    profesores_ocupados = profesores_asignados_en_fecha(asignacion, fecha)\n",
        "    # Profesores disponibles para ese rol y fecha\n",
        "    profesores_disponibles = [\n",
        "        p for p in range(num_profesores)\n",
        "        if disponibilidad.iloc[p, fecha] == 1  # Disponibilidad horaria\n",
        "        and roles_df.iloc[p, rol_idx] == 1  # Puede desempeñar el rol\n",
        "        and p not in profesores_ocupados  # No asignado en la misma fecha\n",
        "        and p not in asignacion[tribunal_seleccionado].values()  # No asignado en este tribunal\n",
        "        and p != profesor_mas_ocupado  # No es el mismo profesor que se desea cambiar\n",
        "    ]\n",
        "\n",
        "    # Ordenar los profesores disponibles por su frecuencia de ocupación (de menor a mayor) usando la frecuencia ya calculada\n",
        "    profesores_disponibles_ordenados = sorted(\n",
        "        profesores_disponibles,\n",
        "        key=lambda p: frecuencia_ocupacion[p]\n",
        "    )\n",
        "\n",
        "    # Seleccionar el profesor menos ocupado entre los disponibles\n",
        "    if profesores_disponibles_ordenados:\n",
        "        nuevo_profesor = profesores_disponibles_ordenados[0]\n",
        "\n",
        "        # Buscar el rol que tiene asignado el profesor más ocupado en el tribunal\n",
        "        asignacion[tribunal_seleccionado][rol_idx] = nuevo_profesor\n",
        "\n",
        "    return asignacion"
      ]
    },
    {
      "cell_type": "code",
      "execution_count": null,
      "metadata": {
        "id": "42kbPedrF3U0"
      },
      "outputs": [],
      "source": [
        "# Elija un tribunal al azar y luego una fecha al azar, y asigne a los profesores respetando los criterios en ese tribunal seleccionado\n",
        "def generar_vecino_metodo_2(asignacion, disponibilidad, roles_df):\n",
        "    # Seleccionar un tribunal al azar\n",
        "    tribunal_seleccionado = random.choice(list(asignacion.keys()))\n",
        "    # Obtener la fecha del tribunal seleccionado\n",
        "    fecha = asignacion[tribunal_seleccionado]['fecha']\n",
        "    # Encontrar los profesores ocupados en otros tribunales en la misma fecha\n",
        "    profesores_ocupados = profesores_asignados_en_fecha(asignacion, fecha)\n",
        "    # Número de profesores (se puede obtener directamente del DataFrame)\n",
        "    num_profesores = disponibilidad.shape[0]\n",
        "    # Asignar profesores a los roles 'P', 'S', 'V' en el tribunal seleccionado\n",
        "    for rol_idx, rol in enumerate(['P', 'S', 'V']):\n",
        "        # Profesores disponibles para ese rol y fecha\n",
        "        profesores_disponibles = [\n",
        "            p for p in range(num_profesores)\n",
        "            if disponibilidad.iloc[p, fecha] == 1  # Disponibilidad horaria\n",
        "            and roles_df.iloc[p, rol_idx] == 1  # Puede desempeñar el rol\n",
        "            and p not in profesores_ocupados  # No asignado en la misma fecha\n",
        "            and p not in asignacion[tribunal_seleccionado].values()  # No asignado en este tribunal\n",
        "        ]\n",
        "\n",
        "        # Si hay profesores disponibles, seleccionar uno al azar\n",
        "        if profesores_disponibles:\n",
        "            nuevo_profesor = random.choice(profesores_disponibles)\n",
        "            asignacion[tribunal_seleccionado][rol] = nuevo_profesor\n",
        "            # Añadir el profesor a la lista de ocupados para evitar duplicados en otros roles\n",
        "            profesores_ocupados.append(nuevo_profesor)\n",
        "\n",
        "    return asignacion"
      ]
    },
    {
      "cell_type": "code",
      "execution_count": null,
      "metadata": {
        "id": "JnRs9Pr6F3U1",
        "outputId": "065a6dba-fe1a-4591-e2dc-4516d799cd96"
      },
      "outputs": [
        {
          "name": "stdout",
          "output_type": "stream",
          "text": [
            "Asignación Óptima Encontrada:\n",
            "{0: {'fecha': 10, 'P': 4, 'S': 5, 'V': 6, 1: 1, 0: 2}, 1: {'fecha': 11, 'P': 0, 'S': 1, 'V': 2, 1: 4, 0: 8}, 2: {'fecha': 10, 'P': 1, 'S': 7, 'V': 8, 0: 2}, 3: {'fecha': 13, 'P': 1, 'S': 5, 'V': 3, 2: 6, 0: 0, 1: 4}, 4: {'fecha': 20, 'P': 5, 'S': 9, 'V': 1}, 5: {'fecha': 15, 'P': 4, 'S': 9, 'V': 2, 0: 0, 1: 3, 2: 5}, 6: {'fecha': 30, 'P': 4, 'S': 1, 'V': 3, 1: 8, 0: 0, 2: 5}, 7: {'fecha': 20, 'P': 0, 'S': 3, 'V': 2}, 8: {'fecha': 5, 'P': 1, 'S': 0, 'V': 6, 2: 2, 0: 9, 1: 8}, 9: {'fecha': 4, 'P': 8, 'S': 6, 'V': 3, 0: 1, 2: 2, 1: 5}, 10: {'fecha': 28, 'P': 5, 'S': 7, 'V': 3, 0: 8, 1: 0}, 11: {'fecha': 28, 'P': 0, 'S': 9, 'V': 6, 0: 5, 1: 7}, 12: {'fecha': 16, 'P': 0, 'S': 1, 'V': 2, 1: 5, 2: 7, 0: 9}, 13: {'fecha': 3, 'P': 5, 'S': 6, 'V': 9, 2: 7, 0: 1, 1: 0}, 14: {'fecha': 22, 'P': 8, 'S': 3, 'V': 2, 0: 9, 2: 5, 1: 7}}\n",
            "Costo de la solución (diferencia entre máximo y mínimo de tribunales asignados): 1.0\n"
          ]
        }
      ],
      "source": [
        "# Algoritmo  \"Simulated Annealing\"\n",
        "def simulated_annealing(asignacion_inicial, disponibilidad,roles_df,temperatura_inicial=10, factor_enfriamiento=0.95, max_iter=1000):\n",
        "    asignacion = asignacion_inicial.copy()\n",
        "    temperatura = temperatura_inicial\n",
        "    energia_actual = calcular_energia(asignacion)\n",
        "\n",
        "    for _ in range(max_iter):\n",
        "        # Generar un vecino  metodo 2\n",
        "        vecino = generar_vecino_metodo_2(asignacion.copy(), disponibilidad, roles_df)\n",
        "        energia_vecino = calcular_energia(vecino)\n",
        "\n",
        "        # Si la nueva solución es mejor, la aceptamos\n",
        "        if energia_vecino < energia_actual:\n",
        "            asignacion = vecino\n",
        "            energia_actual = energia_vecino\n",
        "        elif energia_vecino==1:#Si es el optimo global, termina\n",
        "            asignacion = vecino\n",
        "            energia_actual = energia_vecino\n",
        "            break\n",
        "        else:\n",
        "            # Si es peor, aceptamos con una probabilidad que depende de la temperatura\n",
        "            probabilidad = math.exp((energia_actual - energia_vecino) / temperatura)\n",
        "            if random.random() < probabilidad:\n",
        "                asignacion = vecino\n",
        "                energia_actual = energia_vecino\n",
        "\n",
        "        # Generar un vecino  metodo 1\n",
        "        vecino =generar_vecino_metodo_1(asignacion.copy(),disponibilidad,roles_df)\n",
        "        energia_vecino = calcular_energia(vecino)\n",
        "\n",
        "        # Si la nueva solución es mejor, la aceptamos\n",
        "        if energia_vecino < energia_actual:\n",
        "            asignacion = vecino\n",
        "            energia_actual = energia_vecino\n",
        "        elif energia_vecino==1:#Si es el optimo global, termina\n",
        "            asignacion = vecino\n",
        "            energia_actual = energia_vecino\n",
        "            break\n",
        "        else:\n",
        "            # Si es peor, aceptamos con una probabilidad que depende de la temperatura\n",
        "            probabilidad = math.exp((energia_actual - energia_vecino) / temperatura)\n",
        "            if random.random() < probabilidad:\n",
        "                asignacion = vecino\n",
        "                energia_actual = energia_vecino\n",
        "\n",
        "        # Reducir la temperatura\n",
        "        temperatura *= factor_enfriamiento\n",
        "\n",
        "    return asignacion, energia_actual\n",
        "\n",
        "# Ejecutar Simulated Annealing\n",
        "asignacion_inicial=crear_asignacion_inicial(disponibilidad,roles_df,num_tribunales=15)\n",
        "asignacion_optima, costo_optimo = simulated_annealing(asignacion_inicial,disponibilidad,roles_df)\n",
        "\n",
        "# Mostrar la asignación óptima y el costo de la solución\n",
        "print(\"Asignación Óptima Encontrada:\")\n",
        "print(asignacion_optima)\n",
        "print(f\"Costo de la solución (diferencia entre máximo y mínimo de tribunales asignados): {costo_optimo}\")"
      ]
    },
    {
      "cell_type": "markdown",
      "metadata": {
        "id": "GlZUDO_8F3U2"
      },
      "source": [
        "Las soluciones óptimas globales deben ser de coste 1 (si las hay), según lo especificado en el problema."
      ]
    },
    {
      "cell_type": "markdown",
      "metadata": {
        "id": "FstuixwUF3U3"
      },
      "source": [
        "Asignación Óptima Encontrada:\n",
        "{0: {'fecha': 31, 'P': 1, 'S': 7, 'V': 2, 2: 3, 0: 9, 1: 5}, 1: {'fecha': 11, 'P': 1, 'S': 5, 'V': 8}, 2: {'fecha': 3, 'P': 9, 'S': 4, 'V': 7, 0: 5, 2: 0}, 3: {'fecha': 33, 'P': 0, 'S': 6, 'V': 8, 2: 1, 1: 3, 0: 4},\n",
        "\n",
        "4: {'fecha': 23, 'P': 8, 'S': 6, 'V': 2, 2: 9, 1: 3, 0: 1}, 5: {'fecha': 6, 'P': 9, 'S': 7, 'V': 3, 1: 5}, 6: {'fecha': 22, 'P': 5, 'S': 7, 'V': 4, 1: 6, 2: 2, 0: 8}, 7: {'fecha': 28, 'P': 9, 'S': 5, 'V': 3, 0: 0, 1: 6, 2: 7},\n",
        "\n",
        "8: {'fecha': 16, 'P': 4, 'S': 1, 'V': 5, 1: 8, 2: 9}, 9: {'fecha': 32, 'P': 9, 'S': 7, 'V': 6, 0: 8, 2: 0, 1: 3}, 10: {'fecha': 25, 'P': 4, 'S': 3, 'V': 2, 1: 5, 0: 8, 2: 1}, 11: {'fecha': 5, 'P': 9, 'S': 6, 'V': 2, 0: 0, 1: 1, 2: 7},\n",
        "\n",
        "12: {'fecha': 16, 'P': 2, 'S': 7, 'V': 0, 2: 8, 0: 9}, 13: {'fecha': 3, 'P': 5, 'S': 6, 'V': 1, 0: 0}, 14: {'fecha': 11, 'P': 4, 'S': 0, 'V': 2}}\n",
        "\n",
        "Costo de la solución (diferencia entre máximo y mínimo de tribunales asignados): 1.0"
      ]
    },
    {
      "cell_type": "code",
      "execution_count": null,
      "metadata": {
        "id": "iwYQQEePF3U3",
        "outputId": "6f515f7e-355c-4752-8f06-2fb1ba2f0ab7"
      },
      "outputs": [
        {
          "data": {
            "image/png": "[encoded data removed]",
            "text/plain": [
              "<Figure size 1200x800 with 2 Axes>"
            ]
          },
          "metadata": {},
          "output_type": "display_data"
        }
      ],
      "source": [
        "import matplotlib.pyplot as plt\n",
        "\n",
        "# Convertir los datos en un DataFrame para facilitar el manejo\n",
        "tribunales_df = pd.DataFrame.from_dict(asignacion_optima, orient='index')\n",
        "# Crear un gráfico de calor (heatmap) de los tribunales\n",
        "fig, ax = plt.subplots(figsize=(12, 8))\n",
        "# Mostrar las asignaciones P, S, V para cada tribunal con la fecha\n",
        "tribunales_matrix = tribunales_df[['P', 'S', 'V']].values\n",
        "paleta_cualitativa = plt.get_cmap('tab10')  # Puedes cambiar 'Set3' por otra paleta cualitativa\n",
        "# Crear un mapa de calor con la paleta cualitativa\n",
        "cax = ax.matshow(tribunales_matrix, cmap=paleta_cualitativa)\n",
        "# Añadir etiquetas de los ejes\n",
        "ax.set_xticks(np.arange(3))\n",
        "ax.set_xticklabels(['P', 'S', 'V'])\n",
        "# Usar las fechas como etiquetas del eje y\n",
        "ax.set_yticks(np.arange(len(tribunales_df)))\n",
        "ax.set_yticklabels(tribunales_df['fecha'])  # Aquí se usan las fechas\n",
        "# Añadir la barra de color\n",
        "fig.colorbar(cax)\n",
        "# Título y etiquetas\n",
        "ax.set_title('Distribución de profesores en los tribunales')\n",
        "ax.set_xlabel('Roles')\n",
        "ax.set_ylabel('Fechas')  # Cambiamos la etiqueta del eje y\n",
        "# Mostrar el gráfico\n",
        "plt.tight_layout()\n",
        "plt.show()"
      ]
    },
    {
      "cell_type": "markdown",
      "metadata": {
        "id": "HZz52wOppp-U"
      },
      "source": [
        "# Análisis\n",
        "## ¿Que complejidad tiene el problema?. Orden de complejidad y Contabilizar el espacio de soluciones"
      ]
    },
    {
      "cell_type": "markdown",
      "metadata": {
        "id": "os-NVC8DF3U4"
      },
      "source": [
        "### **Orden de Complejidad:**  \n",
        "El problema tiene **complejidad exponencial**, ya que el espacio de soluciones crece de manera combinatoria con el número de tribunales, profesores y franjas horarias.\n",
        "\n",
        "Para este ejemplo:  \n",
        "- Hay **30 franjas horarias** (5 días × 6 horas/día de 15h a 21h).  \n",
        "- Cada tribunal requiere **3 role** con **10 profesores** disponibles sin repeticion en roles, esto es un problema de combinatoria que crece factorial.  \n",
        "- Al escalar a 15 tribunales, las opciones se multiplican exponencialmente.\n",
        "\n",
        "\n",
        "### **Tamaño del Espacio de Soluciones:**  \n",
        "1. **Sin restricciones** (ignorando disponibilidad y solapamientos):  \n",
        "   - Cada tribunal elige una franja horaria (30 opciones) y 3 profesores con roles específicos (combinaciones de $P(10,3) = 10 \\times 9 \\times 8 = 720$.  \n",
        "   - Para 15 tribunales: $ (30 \\times 720)^{15} \\approx 10^{75} $.  \n",
        "\n",
        "2. **Con restricciones** (franjas únicas y profesores no repetidos por hora):  \n",
        "   - Seleccionar 15 franjas de 30: $ \\binom{30}{15} \\approx 1.5 \\times 10^8 $.  \n",
        "   - Asignar 3 profesores distintos por tribunal (6 permutaciones por tribunal): $ 6^{15} \\approx 4.7 \\times 10^{11} $.  \n",
        "   - Total: $ \\approx 7.3 \\times 10^{19} $ combinaciones.  \n"
      ]
    },
    {
      "cell_type": "markdown",
      "metadata": {
        "id": "ixEJUwH_pv7M"
      },
      "source": [
        "# Diseño\n",
        "## ¿Que técnica utilizo? ¿Por qué?"
      ]
    },
    {
      "cell_type": "markdown",
      "metadata": {
        "id": "4iVQMwsSF3U4"
      },
      "source": [
        "**Técnica utilizada:**  \n",
        "He utilizado el **recocido simulado (Simulated Annealing)** combinado con una **búsqueda en vecindad** para resolver este problema.\n",
        "\n",
        "**Las razones son:**  \n",
        "\n",
        "1. **Naturaleza del problema:**  \n",
        "   - Para este problema el espacio de busqueda es alto y con múltiples óptimos locales, para ello necesitaba una técnica que pudiera escapar de estos óptimos locales y explorar el espacio de soluciones de manera eficiente.\n",
        "\n",
        "2. **Recocido simulado:**  \n",
        "   - Como el recocido simulado es un algoritmo metaheurístico que nos permite explorar el espacio de soluciones de manera inteligente, aceptando soluciones peores con una probabilidad decreciente (controlada por una \"temperatura\"), con esto nos ayuda a evitar quedar atrapado en óptimos locales.  \n",
        "   - El espacio de soluciones es grande y no se conoce una estructura clara que permita aplicar métodos exactos y eficientes.  \n",
        "   - La complejidad es relativamente baja en comparación con otros métodos de optimización global, lo que lo hace adecuado para problemas de tamaño moderado a grande.\n",
        "\n",
        "3. **Búsqueda en vecindad:**  \n",
        "   - La búsqueda en vecindad es una técnica complementaria que permite explorar soluciones cercanas a la solución actual, para este problema, estaba claro que las soluciones óptimas podrían alcanzarse mediante pequeños cambios en la configuración actual,es decir, modificando la \"vecindad\".  \n",
        "   - Esta técnica es eficiente porque se enfoca en mejorar la solución actual sin necesidad de explorar todo el espacio de búsqueda, lo que reduce el tiempo de cómputo.\n",
        "\n",
        "4. **Ventajas de la combinación:**  \n",
        "   - La combinación de recocido simulado con búsqueda en vecindad permite equilibrar la **exploración** (búsqueda de nuevas regiones del espacio de soluciones) y la **explotación** (mejora de soluciones cercanas).  \n",
        "   - Esta combinación es efectiva para problemas donde las soluciones óptimas están agrupadas en regiones específicas del espacio de búsqueda, como en este caso.\n"
      ]
    }
  ],
  "metadata": {
    "colab": {
      "provenance": [],
      "include_colab_link": true
    },
    "kernelspec": {
      "display_name": "Python 3",
      "name": "python3"
    },
    "language_info": {
      "codemirror_mode": {
        "name": "ipython",
        "version": 3
      },
      "file_extension": ".py",
      "mimetype": "text/x-python",
      "name": "python",
      "nbconvert_exporter": "python",
      "pygments_lexer": "ipython3",
      "version": "3.9.13"
    }
  },
  "nbformat": 4,
  "nbformat_minor": 0
}
